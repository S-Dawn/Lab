{
  "nbformat": 4,
  "nbformat_minor": 0,
  "metadata": {
    "colab": {
      "name": "Hierarchical_Clustering.ipynb",
      "provenance": [],
      "collapsed_sections": [],
      "authorship_tag": "ABX9TyMkvJm3VifpYCQdASOKcdbI",
      "include_colab_link": true
    },
    "kernelspec": {
      "name": "python3",
      "display_name": "Python 3"
    },
    "language_info": {
      "name": "python"
    }
  },
  "cells": [
    {
      "cell_type": "markdown",
      "metadata": {
        "id": "view-in-github",
        "colab_type": "text"
      },
      "source": [
        "<a href=\"https://colab.research.google.com/github/S-Dawn/Lab/blob/main/Hierarchical_Clustering.ipynb\" target=\"_parent\"><img src=\"https://colab.research.google.com/assets/colab-badge.svg\" alt=\"Open In Colab\"/></a>"
      ]
    },
    {
      "cell_type": "code",
      "metadata": {
        "id": "hNLpeItoGV4K"
      },
      "source": [
        "import numpy as np\n",
        "#import pandas as pd\n",
        "import matplotlib.pyplot as plt\n",
        "import math\n",
        "import sys\n",
        "import copy"
      ],
      "execution_count": 22,
      "outputs": []
    },
    {
      "cell_type": "code",
      "metadata": {
        "colab": {
          "base_uri": "https://localhost:8080/"
        },
        "id": "z85VQw6ZG5si",
        "outputId": "71e44693-2e50-4730-d77d-4e1628560fe7"
      },
      "source": [
        "size = 10\n",
        "dataset= np.random.randint(1,100,size)\n",
        "print(dataset)\n"
      ],
      "execution_count": 47,
      "outputs": [
        {
          "output_type": "stream",
          "text": [
            "[ 1 86 46]\n"
          ],
          "name": "stdout"
        }
      ]
    },
    {
      "cell_type": "code",
      "metadata": {
        "id": "X8IDI_kbJ5fD"
      },
      "source": [
        "cluster_num = 1\n",
        "\n",
        "cluster = []\n",
        "\n",
        "dist_mat_set = []\n",
        "\n",
        "distance_matrix = []\n",
        "data = dataset\n",
        "\n",
        "min_dist = sys.float_info.max\n",
        "a = -1\n",
        "b = -1\n",
        "\n",
        "cluster_ind = []\n",
        "\n",
        "for i in range(0,size):\n",
        "  m = []\n",
        "  cluster_ind.append([data[i]])\n",
        "  for j in range(0, size):\n",
        "    val1 = math.pow(data[i],2)\n",
        "    val2 = math.pow(data[j],2)\n",
        "    d = math.sqrt(val1-val2 if val1>val2 else val2-val1)  \n",
        "    m.append(d)\n",
        "  distance_matrix.append(m)\n",
        "\n",
        "n = size\n",
        "dist_mat_set.append(distance_matrix)\n",
        "cluster.append(cluster_ind)\n",
        "\n",
        "while cluster_num < size:\n",
        "  distance_matrix = dist_mat_set[cluster_num-1]\n",
        "\n",
        "  min_dist = sys.float_info.max\n",
        "  a = -1\n",
        "  b = -1\n",
        "\n",
        "  for i in range(0,n-1):\n",
        "    for j in range(i+1, n):\n",
        "      d = distance_matrix[i][j]\n",
        "      if min_dist >= d:\n",
        "        min_dist = d\n",
        "        a = i\n",
        "        b = j\n",
        "\n",
        "  cluster_ind = copy.deepcopy(cluster[cluster_num-1])\n",
        "  for i in range(0,len(cluster_ind[b])):\n",
        "    cluster_ind[a].append(cluster_ind[b][i])\n",
        "  cluster_ind.pop(b)\n",
        "  for i in range(0, n):\n",
        "    distance_matrix[i][a] = distance_matrix[i][a] if distance_matrix[i][a]<distance_matrix[i][b] else distance_matrix[i][b];\n",
        "\n",
        "  distance_matrix = np.delete(np.delete(distance_matrix, b, 0),b,1)\n",
        "  n = n-1\n",
        "  cluster.append(cluster_ind)\n",
        "\n",
        "  dist_mat_set.append(distance_matrix);\n",
        "\n",
        "  cluster_num+=1"
      ],
      "execution_count": 48,
      "outputs": []
    },
    {
      "cell_type": "code",
      "metadata": {
        "colab": {
          "base_uri": "https://localhost:8080/"
        },
        "id": "NuSiC5ZQsyed",
        "outputId": "2493fc1c-ee91-4915-afde-2339f938457a"
      },
      "source": [
        "for i in range(0, size):\n",
        "  print(\"matrix: \", i+1)\n",
        "  for j in range(0, len(dist_mat_set[i])):\n",
        "    print(dist_mat_set[i][j])"
      ],
      "execution_count": 49,
      "outputs": [
        {
          "output_type": "stream",
          "text": [
            "matrix:  1\n",
            "[0.0, 85.99418584997477, 45.98912915026767]\n",
            "[72.6636084983398, 0.0, 72.6636084983398]\n",
            "[0.0, 72.6636084983398, 0.0]\n",
            "matrix:  2\n",
            "[ 0.         85.99418585]\n",
            "[0. 0.]\n",
            "matrix:  3\n",
            "[0.]\n"
          ],
          "name": "stdout"
        }
      ]
    },
    {
      "cell_type": "code",
      "metadata": {
        "colab": {
          "base_uri": "https://localhost:8080/"
        },
        "id": "wWofNKPr5pKY",
        "outputId": "d6c6f7d2-ddb8-43ae-fc69-9edfce8dbaf0"
      },
      "source": [
        "for i in range(0, size):\n",
        "  print(cluster[i])"
      ],
      "execution_count": 50,
      "outputs": [
        {
          "output_type": "stream",
          "text": [
            "[[1], [86], [46]]\n",
            "[[1, 46], [86]]\n",
            "[[1, 46, 86]]\n"
          ],
          "name": "stdout"
        }
      ]
    }
  ]
}