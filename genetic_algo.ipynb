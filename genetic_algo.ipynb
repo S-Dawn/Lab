{
  "nbformat": 4,
  "nbformat_minor": 0,
  "metadata": {
    "colab": {
      "name": "genetic_algo.ipynb",
      "provenance": [],
      "collapsed_sections": [],
      "include_colab_link": true
    },
    "kernelspec": {
      "name": "python3",
      "display_name": "Python 3"
    },
    "language_info": {
      "name": "python"
    }
  },
  "cells": [
    {
      "cell_type": "markdown",
      "metadata": {
        "id": "view-in-github",
        "colab_type": "text"
      },
      "source": [
        "<a href=\"https://colab.research.google.com/github/S-Dawn/Lab/blob/main/genetic_algo.ipynb\" target=\"_parent\"><img src=\"https://colab.research.google.com/assets/colab-badge.svg\" alt=\"Open In Colab\"/></a>"
      ]
    },
    {
      "cell_type": "code",
      "metadata": {
        "id": "KPU1aalqLtyr"
      },
      "source": [
        "import random"
      ],
      "execution_count": 1,
      "outputs": []
    },
    {
      "cell_type": "code",
      "metadata": {
        "id": "US56xkDxb54l"
      },
      "source": [
        "POPULATION_SIZE = 8\n",
        "VECTOR_LENGTH = 8\n",
        "CROSSOVER_RATE = 0.9\n",
        "MUTATION_RATE = 0.1\n",
        "NUMBER_OF_ITERATIONS = 100\n"
      ],
      "execution_count": 16,
      "outputs": []
    },
    {
      "cell_type": "code",
      "metadata": {
        "id": "XUYHgOD9KJti"
      },
      "source": [
        "def randomBool():\n",
        "  rand = random.random()\n",
        "  if (rand > 0.5) :\n",
        "    return 1\n",
        "  else :\n",
        "    return 0\n",
        "\n",
        "def randomBoolArray() :\n",
        "    arr = [];\n",
        "    for i in range(VECTOR_LENGTH) :\n",
        "        arr.append(randomBool());\n",
        "    return arr;\n",
        "\n",
        "def value (sol_vector) :\n",
        "    res = 0 \n",
        "    for i in range(7,0,-1):\n",
        "      if(sol_vector[i]==1) : \n",
        "        res += pow(2,i)\n",
        "    x = res*8/255\n",
        "    return x\n",
        "\n",
        "def f(sol_vector) :\n",
        "  x =  value(sol_vector)\n",
        "  return x*(8-x)\n",
        "\n",
        "def display_population(chromosome) :\n",
        "  for i in range(POPULATION_SIZE) : \n",
        "    print(chromosome[i])\n",
        "    print(\" = \" , value(chromosome[i]), \" ------> f(x) \", f(chromosome[i])) \n",
        "  \n"
      ],
      "execution_count": 13,
      "outputs": []
    },
    {
      "cell_type": "code",
      "metadata": {
        "id": "sNBv9mVgMGRF"
      },
      "source": [
        "def selection(chromosome):\n",
        "  total_fitness = 0\n",
        "  k = -1\n",
        "  val = 0.0\n",
        "  j = 0\n",
        "  n = len(chromosome)\n",
        "\n",
        "  new_gen_chromosome = []\n",
        "\n",
        "  r_wheel = []\n",
        "\n",
        "  for i in range(0,n):\n",
        "    total_fitness += f(chromosome[i]);\n",
        "    if(f(chromosome[i]) > val):\n",
        "      val = f(chromosome[i])\n",
        "      j = i;\n",
        "\n",
        "  r_wheel.append(f(chromosome[0])/total_fitness);\n",
        "  for i in range(1,n):\n",
        "    r_wheel.append(r_wheel[i-1] + f(chromosome[i])/total_fitness)\n",
        "\n",
        "  new_gen_chromosome.append(chromosome[j]);\n",
        "\n",
        "  for i in range(1,POPULATION_SIZE):\n",
        "    r = random.random()\n",
        "    for j in range(0,n):\n",
        "      if(r<r_wheel[j]):\n",
        "        k = j;\n",
        "      else:\n",
        "        break\n",
        "    new_gen_chromosome.append(chromosome[k])\n",
        "    \n",
        "  return new_gen_chromosome"
      ],
      "execution_count": 3,
      "outputs": []
    },
    {
      "cell_type": "code",
      "metadata": {
        "id": "giPwrUHuUPTG"
      },
      "source": [
        "def crossover(chromosome):\n",
        "  crossover_population = int(CROSSOVER_RATE*POPULATION_SIZE)\n",
        "  parent = [[],[]]\n",
        "  i=0\n",
        "  j=0\n",
        "  k=0\n",
        "  while(True):\n",
        "    if(i==0):\n",
        "      arr = randomBoolArray()\n",
        "    if(arr[i]==1):\n",
        "      parent[k] = []\n",
        "      for a in range(0,VECTOR_LENGTH):\n",
        "        parent[k].append(chromosome[i][a])\n",
        "      k = k+1\n",
        "    \n",
        "    if(k==2):\n",
        "      k=0\n",
        "      index = int(random.random()*(VECTOR_LENGTH-2) + 1)\n",
        "      for m in range(0,index):\n",
        "        temp = parent[0][m]\n",
        "        parent[0][m] = parent[1][m]\n",
        "        parent[1][m] = temp\n",
        "      \n",
        "      chromosome.append(parent[0])\n",
        "      chromosome.append(parent[1])\n",
        "      j += 2\n",
        "\n",
        "      if(j>crossover_population):\n",
        "        break\n",
        "\n",
        "  return chromosome;\n"
      ],
      "execution_count": 7,
      "outputs": []
    },
    {
      "cell_type": "code",
      "metadata": {
        "id": "CtP68I65W63D"
      },
      "source": [
        "def mutation(chromosome):\n",
        "  mutation_population = int(MUTATION_RATE*POPULATION_SIZE)\n",
        "  i=0\n",
        "  j=0\n",
        "  k=0\n",
        "  while(True):\n",
        "    if(i==0):\n",
        "      arr = randomBoolArray()\n",
        "    if(arr[i]==1):\n",
        "      index = int(random.random()*(VECTOR_LENGTH-1))\n",
        "      parent=[]\n",
        "      for a in range(0,VECTOR_LENGTH):\n",
        "        parent.append(chromosome[i][a])\n",
        "      parent[index] = (parent[index]+1)%2\n",
        "      chromosome.append(parent)\n",
        "      j=j+1\n",
        "      if(j>mutation_population):\n",
        "        break\n",
        "  return chromosome\n",
        "  "
      ],
      "execution_count": 10,
      "outputs": []
    },
    {
      "cell_type": "code",
      "metadata": {
        "id": "RUj0I742U0A0",
        "colab": {
          "base_uri": "https://localhost:8080/"
        },
        "outputId": "6bf1d4fd-8cf3-47ec-f025-5ae9db0577e7"
      },
      "source": [
        "def main() :\n",
        "  #initialize population\n",
        "  chromosome = []\n",
        "  for i in range(POPULATION_SIZE) :\n",
        "    chromosome.append(randomBoolArray())\n",
        "\n",
        "  display_population(chromosome)\n",
        "  print(\"---------------\")\n",
        "  for i in range(NUMBER_OF_ITERATIONS) :\n",
        "    #print(\"---------------\")\n",
        "    chromosome = selection(chromosome)\n",
        "    chromosome = crossover(chromosome)\n",
        "    chromosome = mutation(chromosome)\n",
        "  display_population(chromosome)\n",
        "\n",
        "  return 0\n",
        "\n",
        "main()\n"
      ],
      "execution_count": 18,
      "outputs": [
        {
          "output_type": "stream",
          "text": [
            "[0, 0, 0, 1, 0, 1, 0, 1]\n",
            " =  5.270588235294118  ------> f(x)  14.38560553633218\n",
            "[0, 1, 0, 0, 0, 0, 1, 1]\n",
            " =  6.086274509803921  ------> f(x)  11.647458669742408\n",
            "[1, 0, 1, 0, 1, 0, 0, 0]\n",
            " =  0.6274509803921569  ------> f(x)  4.625913110342176\n",
            "[0, 0, 1, 1, 0, 1, 1, 0]\n",
            " =  3.388235294117647  ------> f(x)  15.625743944636676\n",
            "[0, 1, 0, 1, 1, 0, 1, 1]\n",
            " =  6.8392156862745095  ------> f(x)  7.9388542868127665\n",
            "[0, 1, 0, 1, 1, 0, 0, 1]\n",
            " =  4.8313725490196076  ------> f(x)  15.30881968473664\n",
            "[1, 1, 0, 1, 0, 1, 0, 0]\n",
            " =  1.3176470588235294  ------> f(x)  8.804982698961938\n",
            "[0, 0, 1, 0, 0, 1, 0, 0]\n",
            " =  1.1294117647058823  ------> f(x)  7.759723183391004\n",
            "---------------\n",
            "[0, 1, 1, 1, 1, 1, 1, 0]\n",
            " =  3.9529411764705884  ------> f(x)  15.997785467128027\n",
            "[0, 0, 1, 1, 1, 1, 1, 0]\n",
            " =  3.8901960784313725  ------> f(x)  15.987943098808149\n",
            "[0, 0, 1, 1, 1, 1, 1, 0]\n",
            " =  3.8901960784313725  ------> f(x)  15.987943098808149\n",
            "[0, 0, 1, 1, 1, 1, 1, 0]\n",
            " =  3.8901960784313725  ------> f(x)  15.987943098808149\n",
            "[0, 0, 1, 1, 1, 1, 1, 0]\n",
            " =  3.8901960784313725  ------> f(x)  15.987943098808149\n",
            "[0, 0, 1, 1, 1, 1, 1, 0]\n",
            " =  3.8901960784313725  ------> f(x)  15.987943098808149\n",
            "[0, 0, 1, 1, 1, 1, 1, 0]\n",
            " =  3.8901960784313725  ------> f(x)  15.987943098808149\n",
            "[0, 0, 1, 1, 1, 1, 1, 0]\n",
            " =  3.8901960784313725  ------> f(x)  15.987943098808149\n"
          ],
          "name": "stdout"
        },
        {
          "output_type": "execute_result",
          "data": {
            "text/plain": [
              "0"
            ]
          },
          "metadata": {
            "tags": []
          },
          "execution_count": 18
        }
      ]
    }
  ]
}